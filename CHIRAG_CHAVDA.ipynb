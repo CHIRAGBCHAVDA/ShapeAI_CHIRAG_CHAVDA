{
  "nbformat": 4,
  "nbformat_minor": 0,
  "metadata": {
    "colab": {
      "name": "CHIRAG_CHAVDA.ipynb",
      "provenance": []
    },
    "kernelspec": {
      "name": "python3",
      "display_name": "Python 3"
    },
    "language_info": {
      "name": "python"
    }
  },
  "cells": [
    {
      "cell_type": "code",
      "metadata": {
        "id": "XGfVr_sLQGpw"
      },
      "source": [
        "#IMPORTING THE DATASET\n",
        "from keras.datasets import mnist\n",
        "data = mnist.load_data()"
      ],
      "execution_count": 18,
      "outputs": []
    },
    {
      "cell_type": "markdown",
      "metadata": {
        "id": "yjmAQQ0xQ8UY"
      },
      "source": [
        "DEFINE TRAINING AND TESTING DATA"
      ]
    },
    {
      "cell_type": "code",
      "metadata": {
        "id": "aJUECmOfQxN-"
      },
      "source": [
        "(x_train,y_train),(x_test,y_test) = data"
      ],
      "execution_count": 19,
      "outputs": []
    },
    {
      "cell_type": "code",
      "metadata": {
        "colab": {
          "base_uri": "https://localhost:8080/"
        },
        "id": "qx2xNvXnTKGO",
        "outputId": "b29b3b7d-d768-4fb2-9077-2fb3f0f085bf"
      },
      "source": [
        "x_train[0].shape"
      ],
      "execution_count": 20,
      "outputs": [
        {
          "output_type": "execute_result",
          "data": {
            "text/plain": [
              "(28, 28)"
            ]
          },
          "metadata": {
            "tags": []
          },
          "execution_count": 20
        }
      ]
    },
    {
      "cell_type": "code",
      "metadata": {
        "id": "Halq2vlNT-0p"
      },
      "source": [
        "#Reshape the training model\n",
        "x_train = x_train.reshape((x_train.shape[0],28*28)).astype('float32')\n",
        "x_test = x_test.reshape((x_test.shape[0],28*28)).astype('float32')\n"
      ],
      "execution_count": 21,
      "outputs": []
    },
    {
      "cell_type": "code",
      "metadata": {
        "id": "C4p77vyWVbP0"
      },
      "source": [
        "#Normalizing values from 0-255 to 0-1\n",
        "x_train = x_train/255\n",
        "x_test = x_test/255"
      ],
      "execution_count": 22,
      "outputs": []
    },
    {
      "cell_type": "code",
      "metadata": {
        "id": "85gidn4_V_Op"
      },
      "source": [
        "from keras.utils import np_utils\n",
        "y_train = np_utils.to_categorical(y_train)\n",
        "y_test = np_utils.to_categorical(y_test)\n",
        "num_classes = y_test.shape[1]"
      ],
      "execution_count": 23,
      "outputs": []
    },
    {
      "cell_type": "code",
      "metadata": {
        "id": "MEuKXU1zW_RQ"
      },
      "source": [
        "from keras.models import Sequential\n",
        "from keras.layers import Dense\n",
        "from keras.layers import Dropout"
      ],
      "execution_count": 24,
      "outputs": []
    },
    {
      "cell_type": "code",
      "metadata": {
        "id": "iT9KFRVWYDA1"
      },
      "source": [
        "# Define Model\n",
        "model = Sequential()\n",
        "\n",
        "# Add First Hidden Layer\n",
        "model.add(Dense(32,input_dim=28*28,activation='relu'))\n",
        "\n",
        "# Add Second Hidden Layer\n",
        "model.add(Dense(64,activation='relu'))\n",
        "\n",
        "# Add output layer\n",
        "model.add(Dense(10,activation='softmax'))\n",
        "\n"
      ],
      "execution_count": 25,
      "outputs": []
    },
    {
      "cell_type": "code",
      "metadata": {
        "id": "u_2rR0_VZ2sQ"
      },
      "source": [
        "# Compile\n",
        "model.compile(loss='categorical_crossentropy',optimizer='adam',metrics=['accuracy'])"
      ],
      "execution_count": 32,
      "outputs": []
    },
    {
      "cell_type": "code",
      "metadata": {
        "colab": {
          "base_uri": "https://localhost:8080/"
        },
        "id": "PbmlDyzSaWa6",
        "outputId": "4d0dfe80-1fd4-45e2-f859-01ddafb62f14"
      },
      "source": [
        "# Print\n",
        "model.summary()"
      ],
      "execution_count": 33,
      "outputs": [
        {
          "output_type": "stream",
          "text": [
            "Model: \"sequential_1\"\n",
            "_________________________________________________________________\n",
            "Layer (type)                 Output Shape              Param #   \n",
            "=================================================================\n",
            "dense_3 (Dense)              (None, 32)                25120     \n",
            "_________________________________________________________________\n",
            "dense_4 (Dense)              (None, 64)                2112      \n",
            "_________________________________________________________________\n",
            "dense_5 (Dense)              (None, 10)                650       \n",
            "=================================================================\n",
            "Total params: 27,882\n",
            "Trainable params: 27,882\n",
            "Non-trainable params: 0\n",
            "_________________________________________________________________\n"
          ],
          "name": "stdout"
        }
      ]
    },
    {
      "cell_type": "code",
      "metadata": {
        "colab": {
          "base_uri": "https://localhost:8080/"
        },
        "id": "yEVwxjf2aacw",
        "outputId": "1bdb47eb-2752-4206-9314-d4b73cf85a84"
      },
      "source": [
        "# Train\n",
        "model.fit(x_train,y_train,epochs=10,batch_size=100)"
      ],
      "execution_count": 34,
      "outputs": [
        {
          "output_type": "stream",
          "text": [
            "Epoch 1/10\n",
            "600/600 [==============================] - 1s 1ms/step - loss: 0.7413 - accuracy: 0.7945\n",
            "Epoch 2/10\n",
            "600/600 [==============================] - 1s 2ms/step - loss: 0.1980 - accuracy: 0.9426\n",
            "Epoch 3/10\n",
            "600/600 [==============================] - 1s 2ms/step - loss: 0.1530 - accuracy: 0.9536\n",
            "Epoch 4/10\n",
            "600/600 [==============================] - 1s 2ms/step - loss: 0.1260 - accuracy: 0.9620\n",
            "Epoch 5/10\n",
            "600/600 [==============================] - 1s 1ms/step - loss: 0.1175 - accuracy: 0.9657\n",
            "Epoch 6/10\n",
            "600/600 [==============================] - 1s 1ms/step - loss: 0.0978 - accuracy: 0.9711\n",
            "Epoch 7/10\n",
            "600/600 [==============================] - 1s 1ms/step - loss: 0.0864 - accuracy: 0.9743\n",
            "Epoch 8/10\n",
            "600/600 [==============================] - 1s 2ms/step - loss: 0.0829 - accuracy: 0.9752\n",
            "Epoch 9/10\n",
            "600/600 [==============================] - 1s 1ms/step - loss: 0.0697 - accuracy: 0.9791\n",
            "Epoch 10/10\n",
            "600/600 [==============================] - 1s 1ms/step - loss: 0.0658 - accuracy: 0.9801\n"
          ],
          "name": "stdout"
        },
        {
          "output_type": "execute_result",
          "data": {
            "text/plain": [
              "<tensorflow.python.keras.callbacks.History at 0x7f204a523810>"
            ]
          },
          "metadata": {
            "tags": []
          },
          "execution_count": 34
        }
      ]
    },
    {
      "cell_type": "code",
      "metadata": {
        "colab": {
          "base_uri": "https://localhost:8080/"
        },
        "id": "qwNsRPjnayVc",
        "outputId": "46002eb7-1308-4094-cfef-2343c9e7e8f3"
      },
      "source": [
        "scores = model.evaluate(x_test,y_test)\n",
        "print(scores)"
      ],
      "execution_count": 36,
      "outputs": [
        {
          "output_type": "stream",
          "text": [
            "313/313 [==============================] - 0s 677us/step - loss: 0.1033 - accuracy: 0.9677\n",
            "[0.10325196385383606, 0.9677000045776367]\n"
          ],
          "name": "stdout"
        }
      ]
    },
    {
      "cell_type": "code",
      "metadata": {
        "id": "CI-q9Dj5cTN3"
      },
      "source": [
        "\n",
        "\n"
      ],
      "execution_count": null,
      "outputs": []
    }
  ]
}